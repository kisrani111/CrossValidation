{
 "cells": [
  {
   "cell_type": "code",
   "execution_count": 1,
   "metadata": {},
   "outputs": [],
   "source": [
    "import numpy as np\n",
    "import matplotlib.pyplot as plt\n",
    "import scipy.sparse as ss\n",
    "from sklearn import tree"
   ]
  },
  {
   "cell_type": "code",
   "execution_count": 2,
   "metadata": {},
   "outputs": [
    {
     "name": "stdout",
     "output_type": "stream",
     "text": [
      "done\n",
      "done\n",
      "done\n",
      "done\n",
      "(800, 100001) (350, 100001) 727760\n"
     ]
    }
   ],
   "source": [
    "#load data, in sparse format\n",
    "def load_data(filename):\n",
    "    f = open('dorothea/%s.data' % filename)\n",
    "    I,J = [],[]\n",
    "    for k in range(100000):\n",
    "        line = f.readline()\n",
    "        if len(line) == 0:\n",
    "            print('done')\n",
    "            break\n",
    "\n",
    "        line = [int(x) for x in line.split()]\n",
    "        J.extend(line)\n",
    "        I.extend(k for i in range(len(line)))\n",
    "\n",
    "    return ss.coo_matrix((np.ones(len(I)), (I,J)))\n",
    "\n",
    "\n",
    "def load_labels(filename):\n",
    "    f = open('dorothea/%s.labels' % filename)\n",
    "    y = []\n",
    "    for k in range(100000):\n",
    "        line = f.readline()\n",
    "        \n",
    "        if len(line) == 0:\n",
    "            print('done')\n",
    "            break\n",
    "        y.append(int(line))\n",
    "    return np.array(y)\n",
    "\n",
    "\n",
    "Xtrain = load_data('dorothea_train')\n",
    "ytrain = load_labels('dorothea_train')\n",
    "\n",
    "Xtest= load_data('dorothea_valid')\n",
    "ytest = load_labels('dorothea_valid')\n",
    "\n",
    "print( Xtrain.shape,  Xtest.shape, Xtrain.nnz)"
   ]
  },
  {
   "cell_type": "code",
   "execution_count": 3,
   "metadata": {},
   "outputs": [
    {
     "name": "stdout",
     "output_type": "stream",
     "text": [
      "class balance is currently 0.10  +1, 0.90 -1\n"
     ]
    }
   ],
   "source": [
    "def get_class_balance(y):\n",
    "    counter1 = 0\n",
    "    counterneg = 0\n",
    "    for i in range(len(y)):\n",
    "        if y[i] == 1:\n",
    "            counter1+=1\n",
    "        elif y[i] == -1:\n",
    "            counterneg+=1\n",
    "    \n",
    "    return counter1/len(y) ,counterneg/len(y)\n",
    "\n",
    "print ('class balance is currently %.2f  +1, %.2f -1' % get_class_balance(ytrain))"
   ]
  },
  {
   "cell_type": "markdown",
   "metadata": {},
   "source": [
    "This is different from prior binary classification tasks as this one is heavily imbalanced."
   ]
  },
  {
   "cell_type": "code",
   "execution_count": 4,
   "metadata": {},
   "outputs": [
    {
     "name": "stdout",
     "output_type": "stream",
     "text": [
      "0.04125000000000001 0.7724137931034484\n",
      "0.0714285714285714 0.6031746031746031\n"
     ]
    }
   ],
   "source": [
    "def get_misclass(y,yhat):\n",
    "    counter = 0\n",
    "    counterT = 0\n",
    "    i = 0\n",
    "    while i < len(yhat):\n",
    "        if yhat[i] == y[i]:\n",
    "            counter +=1\n",
    "        i+=1\n",
    "        counterT +=1\n",
    "    return (1 - counter/counterT)\n",
    "\n",
    "\n",
    "def get_f1(y,yhat):\n",
    "    detected = 0\n",
    "    retrieved = 0\n",
    "    relevant = 0\n",
    "    i = 0\n",
    "    while i < len(yhat):\n",
    "        if yhat[i] == 1:\n",
    "            retrieved +=1\n",
    "            if y[i] == 1: \n",
    "                detected +=1\n",
    "        if y[i] == 1: \n",
    "                relevant +=1        \n",
    "        i+=1\n",
    "    P = detected / retrieved \n",
    "    R = detected / relevant \n",
    "    x = 2 * P * R\n",
    "    y = P + R\n",
    "    return x / y\n",
    "\n",
    "depth = 3\n",
    "clf = tree.DecisionTreeClassifier(criterion='entropy',splitter='best',max_depth=depth, class_weight='balanced')\n",
    "clf = clf.fit(Xtrain, ytrain)\n",
    "\n",
    "print( get_misclass(ytrain, clf.predict(Xtrain) ), get_f1(ytrain, clf.predict(Xtrain) ))\n",
    "print (get_misclass(ytest, clf.predict(Xtest) ), get_f1(ytest, clf.predict(Xtest) ))"
   ]
  },
  {
   "cell_type": "markdown",
   "metadata": {},
   "source": [
    "The misclassification rate for both are less than 10 percent, thus shows that it performd a decent job. However, the F1 score does look more reasonable performance metric due to the imbalanced data set"
   ]
  },
  {
   "cell_type": "code",
   "execution_count": 5,
   "metadata": {},
   "outputs": [
    {
     "name": "stdout",
     "output_type": "stream",
     "text": [
      "[0.7132867132867133, 0.7724137931034484, 0.8243243243243245, 0.8783783783783784, 0.8947368421052632, 0.9342105263157894, 0.9135802469135802, 0.9743589743589743, 0.975]\n"
     ]
    }
   ],
   "source": [
    "f1train = []\n",
    "f1test = []\n",
    "depths = []\n",
    "i = 2\n",
    "while i < 11:\n",
    "    depth = i\n",
    "    clf = tree.DecisionTreeClassifier(criterion='entropy',splitter='best',max_depth=depth, class_weight='balanced')\n",
    "    clf = clf.fit(Xtrain, ytrain)\n",
    "    f1train.append(get_f1(ytrain, clf.predict(Xtrain)))\n",
    "    f1test.append(get_f1(ytest, clf.predict(Xtest)))\n",
    "    depths.append(i)\n",
    "    i+=1\n",
    "\n",
    "print(f1train)\n",
    "    "
   ]
  },
  {
   "cell_type": "code",
   "execution_count": 6,
   "metadata": {},
   "outputs": [
    {
     "data": {
      "text/plain": [
       "<matplotlib.legend.Legend at 0x7fdec1529760>"
      ]
     },
     "execution_count": 6,
     "metadata": {},
     "output_type": "execute_result"
    },
    {
     "data": {
      "image/png": "[encoded data removed]",
      "text/plain": [
       "<Figure size 432x288 with 1 Axes>"
      ]
     },
     "metadata": {
      "needs_background": "light"
     },
     "output_type": "display_data"
    }
   ],
   "source": [
    "plt.plot(depths, f1train, label = 'Train')\n",
    "plt.plot(depths, f1test, label = 'Test')\n",
    "plt.xlabel('Depth')\n",
    "plt.ylabel('f1 values')\n",
    "plt.legend(loc='upper left')\n",
    "\n"
   ]
  },
  {
   "cell_type": "markdown",
   "metadata": {},
   "source": [
    "As the depth increases the f1 vscores generally increase."
   ]
  },
  {
   "cell_type": "code",
   "execution_count": 7,
   "metadata": {
    "tags": []
   },
   "outputs": [],
   "source": [
    "from sklearn.model_selection import KFold\n",
    "x = Xtrain.tocsr().todense()\n",
    "kf = KFold(n_splits=5)\n",
    "f1trains = []\n",
    "f1tests = []\n",
    "depthss = []\n",
    "for train_index, test_index in kf.split(x):\n",
    "    X_train, X_test = x[train_index], x[test_index]\n",
    "    y_train, y_test = ytrain[train_index], ytrain[test_index]\n",
    "    f1train = []\n",
    "    f1test = []\n",
    "    depths = []\n",
    "    i = 2\n",
    "    while i < 11:\n",
    "        depth = i\n",
    "        clf = tree.DecisionTreeClassifier(criterion='entropy',splitter='best',max_depth=depth, class_weight='balanced')\n",
    "        clf = clf.fit(X_train, y_train)\n",
    "        f1train.append(get_f1(y_train, clf.predict(X_train)))\n",
    "        f1test.append(get_f1(y_test, clf.predict(X_test)))\n",
    "        depths.append(i)\n",
    "        i+=1\n",
    "    f1trains.append(f1train)\n",
    "    f1tests.append(f1test)\n",
    "    depthss.append(depths)\n"
   ]
  },
  {
   "cell_type": "code",
   "execution_count": 8,
   "metadata": {},
   "outputs": [
    {
     "data": {
      "text/plain": [
       "Text(0, 0.5, 'f1 values')"
      ]
     },
     "execution_count": 8,
     "metadata": {},
     "output_type": "execute_result"
    },
    {
     "data": {
      "image/png": "[encoded data removed]",
      "text/plain": [
       "<Figure size 432x288 with 1 Axes>"
      ]
     },
     "metadata": {
      "needs_background": "light"
     },
     "output_type": "display_data"
    }
   ],
   "source": [
    "plt.plot(depthss[0], f1trains[0])\n",
    "plt.plot(depthss[1], f1trains[1])\n",
    "plt.plot(depthss[2], f1trains[2])\n",
    "plt.plot(depthss[3], f1trains[3])\n",
    "plt.plot(depthss[4], f1trains[4])\n",
    "plt.xlabel('Depth')\n",
    "plt.ylabel('f1 values')\n"
   ]
  },
  {
   "cell_type": "markdown",
   "metadata": {},
   "source": [
    "There is a stable trend as all the f1 scores generally increase for all of the folds with depth. "
   ]
  },
  {
   "cell_type": "code",
   "execution_count": 9,
   "metadata": {},
   "outputs": [],
   "source": [
    "avg = []\n",
    "i = 0\n",
    "while i < 9:\n",
    "    x = (f1trains[0][i] + f1trains[1][i] + f1trains[2][i] + f1trains[3][i] + f1trains[4][i])/5\n",
    "    avg.append(x)\n",
    "    i+=1"
   ]
  },
  {
   "cell_type": "code",
   "execution_count": 10,
   "metadata": {},
   "outputs": [
    {
     "data": {
      "text/plain": [
       "Text(0, 0.5, 'f1 values')"
      ]
     },
     "execution_count": 10,
     "metadata": {},
     "output_type": "execute_result"
    },
    {
     "data": {
      "image/png": "[encoded data removed]",
      "text/plain": [
       "<Figure size 432x288 with 1 Axes>"
      ]
     },
     "metadata": {
      "needs_background": "light"
     },
     "output_type": "display_data"
    }
   ],
   "source": [
    "plt.plot(depths, avg)\n",
    "plt.plot(depths, f1test)\n",
    "\n",
    "\n",
    "plt.xlabel('Depth')\n",
    "plt.ylabel('f1 values')\n"
   ]
  },
  {
   "cell_type": "markdown",
   "metadata": {},
   "source": [
    "It does not correspond too well to the test set F score, thus this venture was not 100% successful. "
   ]
  },
  {
   "cell_type": "code",
   "execution_count": null,
   "metadata": {},
   "outputs": [],
   "source": []
  }
 ],
 "metadata": {
  "kernelspec": {
   "display_name": "Python 3 (ipykernel)",
   "language": "python",
   "name": "python3"
  },
  "language_info": {
   "codemirror_mode": {
    "name": "ipython",
    "version": 3
   },
   "file_extension": ".py",
   "mimetype": "text/x-python",
   "name": "python",
   "nbconvert_exporter": "python",
   "pygments_lexer": "ipython3",
   "version": "3.9.7"
  }
 },
 "nbformat": 4,
 "nbformat_minor": 4
}
